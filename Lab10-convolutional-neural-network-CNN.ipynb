{
  "cells": [
    {
      "cell_type": "markdown",
      "metadata": {
        "id": "view-in-github",
        "colab_type": "text"
      },
      "source": [
        "<a href=\"https://colab.research.google.com/github/SzymonNowakowski/Machine-Learning-2024/blob/master/Lab10-convolutional-neural-network-CNN.ipynb\" target=\"_parent\"><img src=\"https://colab.research.google.com/assets/colab-badge.svg\" alt=\"Open In Colab\"/></a>"
      ]
    },
    {
      "cell_type": "markdown",
      "source": [
        "# Lab 10 - Convolutional Neural Network, CNN\n",
        "\n",
        "### Author: Szymon Nowakowski"
      ],
      "metadata": {
        "id": "xl_-W_aXqjJ2"
      },
      "id": "xl_-W_aXqjJ2"
    },
    {
      "cell_type": "markdown",
      "source": [
        "# Presentation on Convolutional Layers\n",
        "--------------------\n",
        "\n",
        "We shall start off by going through a [short presentation on convolusional layers](https://github.com/SzymonNowakowski/Machine-Learning-2024/blob/master/convolutional_layers.pdf). It is best to first download it and then go through it in a slide-show layout."
      ],
      "metadata": {
        "id": "Y88jX_qD1WOy"
      },
      "id": "Y88jX_qD1WOy"
    },
    {
      "cell_type": "markdown",
      "source": [
        "# Reading MNIST Dataset\n",
        "----------------------------------"
      ],
      "metadata": {
        "id": "jBj9rZpumQ2a"
      },
      "id": "jBj9rZpumQ2a"
    },
    {
      "cell_type": "code",
      "source": [
        "import torch\n",
        "import torchvision\n",
        "from matplotlib import pyplot\n",
        "\n",
        "transform = torchvision.transforms.Compose(\n",
        "    [ torchvision.transforms.ToTensor(), #Converts a PIL Image or numpy.ndarray (H x W x C) in the range [0, 255] to a torch.FloatTensor of shape (C x H x W) in the range [0.0, 1.0]\n",
        "      torchvision.transforms.Normalize((0.1307), (0.3081))])\n",
        "\n",
        "trainset = torchvision.datasets.MNIST(root='./data',\n",
        "                                      train=True,\n",
        "                                      download=True,\n",
        "                                      transform=transform)\n",
        "\n",
        "trainloader = torch.utils.data.DataLoader(trainset,\n",
        "                                          batch_size=2048,\n",
        "                                          shuffle=True)   #we do shuffle it to give more randomizations to training epochs\n",
        "\n",
        "testset = torchvision.datasets.MNIST(root='./data',\n",
        "                                     train=False,\n",
        "                                     download=True,\n",
        "                                     transform=transform)\n",
        "\n",
        "testloader = torch.utils.data.DataLoader(testset,\n",
        "                                         batch_size=1,\n",
        "                                         shuffle=False)"
      ],
      "metadata": {
        "id": "K_b3NgK0mT9C"
      },
      "id": "K_b3NgK0mT9C",
      "execution_count": null,
      "outputs": []
    },
    {
      "cell_type": "markdown",
      "source": [
        "# Tensor Sizes\n",
        "-------------------\n",
        "\n",
        "Recall:\n",
        "- Batched labels are of order one. The first (and only) index is a sample index within a batch.\n",
        "- Image batches have order 4. The first index is a sample index within a batch, but a second index is always 0.\n",
        "  - This index represents a Channel number inserted here by `ToTensor()` transformation, always 0.\n",
        "  - As this order is one-dimensional, we can get rid of it, later, in training, in `Flatten` layer or by using `squeeze()` on a tensor.\n"
      ],
      "metadata": {
        "id": "KpN_zrBRmd6D"
      },
      "id": "KpN_zrBRmd6D"
    },
    {
      "cell_type": "markdown",
      "source": [
        "# CNN Definition\n",
        "-----------------\n",
        "\n",
        "Your job now is to code the definition of the LeNet5 neural network. You can find the definition [here](https://en.wikipedia.org/wiki/LeNet#/media/File:Comparison_image_neural_networks.svg)\n"
      ],
      "metadata": {
        "id": "YAihBeAxndOm"
      },
      "id": "YAihBeAxndOm"
    },
    {
      "cell_type": "code",
      "source": [
        "class LeNet5(torch.nn.Module):\n",
        "    def __init__(self):\n",
        "        super().__init__()\n",
        "\n",
        "        self.dropout = torch.nn.Dropout(0.05)\n",
        "\n",
        "    def forward(self, x):\n",
        "        x = self.dropout(x)\n",
        "        return x"
      ],
      "metadata": {
        "id": "ObfWBGk8nZl_"
      },
      "id": "ObfWBGk8nZl_",
      "execution_count": null,
      "outputs": []
    }
  ],
  "metadata": {
    "colab": {
      "provenance": [],
      "toc_visible": true,
      "gpuType": "T4",
      "include_colab_link": true
    },
    "language_info": {
      "name": "python"
    },
    "kernelspec": {
      "name": "python3",
      "display_name": "Python 3"
    },
    "accelerator": "GPU"
  },
  "nbformat": 4,
  "nbformat_minor": 5
}